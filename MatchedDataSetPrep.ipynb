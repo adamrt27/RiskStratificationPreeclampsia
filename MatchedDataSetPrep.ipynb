{
 "cells": [
  {
   "attachments": {},
   "cell_type": "markdown",
   "metadata": {},
   "source": [
    "This is the **3rd** Notebook in the clustering pipeline. It allows you to take the DataSet object and compute a MatchedDataSet object, which will be used for the matched-ensemble clustering. A MatchedDataSet object consists N (a number you prespecify) randomly matched DataSet object, where the random matched is done to get an equal ratio of PE to controls in each DataSet object.\n",
    "\n",
    "The random matching is done by keeping the 274 PE cases and randomly selecting 274 controls to add into the dataset. This allows for our ideal dataset, which would be 1/2 PE 1/2 control and ideally the PE and control patients would be very similar, or at least randomized. This is similar to the propensity matching technique, but we decided that that techinique could lead to a lot of bias, by just cutting out most of the dataset. Instead, with this workflow, we cluster on each of these subsets, to be able to see pattern inside of the less control-biased samples of data and then combine these clusters into an overall solution.\n",
    "\n",
    "Use <u>***pappas_tadam***</u> virtual environment."
   ]
  },
  {
   "cell_type": "code",
   "execution_count": null,
   "metadata": {},
   "outputs": [],
   "source": [
    "# Set this to whatever directory GoodCopy is in, make sure to add a / at the end.\n",
    "\n",
    "home_dir = \"/home/l/lungboy/tadam/Project/\""
   ]
  },
  {
   "attachments": {},
   "cell_type": "markdown",
   "metadata": {},
   "source": [
    "# Importing Packages and Data"
   ]
  },
  {
   "cell_type": "code",
   "execution_count": null,
   "metadata": {},
   "outputs": [],
   "source": [
    "# Importing packages and functions\n",
    "\n",
    "import numpy as np\n",
    "import pandas as pd\n",
    "import umap.umap_ as umap\n",
    "import matplotlib.pyplot as plt\n",
    "import sys\n",
    "\n",
    "sys.path.append(home_dir + 'GoodCopy/Functions')\n",
    "\n",
    "import FunctionsOOPGood as func"
   ]
  },
  {
   "cell_type": "code",
   "execution_count": null,
   "metadata": {},
   "outputs": [],
   "source": [
    "# Importing Datasets\n",
    "\n",
    "data = func.DataSet(empty=True)\n",
    "data.open_DataSet(home_dir + \"GoodCopy/Objects/data_object\")"
   ]
  },
  {
   "attachments": {},
   "cell_type": "markdown",
   "metadata": {},
   "source": [
    "# Creating MatchedDataSet Object"
   ]
  },
  {
   "cell_type": "code",
   "execution_count": null,
   "metadata": {
    "collapsed": true,
    "jupyter": {
     "outputs_hidden": true
    }
   },
   "outputs": [],
   "source": [
    "# Creates a MatchedDataSet Object from data with a 1:1 PE:control ratio with 1000 randomly matched subsets. \n",
    "# The random seed is the default, 42. This cell will take a while to run.\n",
    "\n",
    "data_matched = func.MatchedDataSet(data, ratio = 1, n_selections = 1000)"
   ]
  },
  {
   "cell_type": "code",
   "execution_count": null,
   "metadata": {},
   "outputs": [],
   "source": [
    "data_matched.save_MatchedDataSet(home_dir + \"GoodCopy/Objects/matched_data_saved\")"
   ]
  }
 ],
 "metadata": {
  "kernelspec": {
   "display_name": "pappas_tadam",
   "language": "python",
   "name": "pappas_tadam"
  },
  "language_info": {
   "codemirror_mode": {
    "name": "ipython",
    "version": 3
   },
   "file_extension": ".py",
   "mimetype": "text/x-python",
   "name": "python",
   "nbconvert_exporter": "python",
   "pygments_lexer": "ipython3",
   "version": "3.9.8"
  }
 },
 "nbformat": 4,
 "nbformat_minor": 4
}
