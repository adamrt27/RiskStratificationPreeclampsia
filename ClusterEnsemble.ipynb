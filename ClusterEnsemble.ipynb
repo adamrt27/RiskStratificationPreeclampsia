{
 "cells": [
  {
   "cell_type": "markdown",
   "metadata": {},
   "source": [
    "This is the **5th** Notebook in the clustering pipeline. It allows you to take the clusters from the randomly matched datasets and compute ensemble solutions for each algorithm, as well as all algorithms combined.\n",
    "\n",
    "We use the ClusterEnsembles package by burtonrj on github. The repo can be found at <u>https://github.com/burtonrj/ClusterEnsembles/tree/main</u>.\n",
    "\n",
    "Use <u>***pappas_tadam***</u> virtual environment."
   ]
  },
  {
   "cell_type": "code",
   "execution_count": null,
   "metadata": {},
   "outputs": [],
   "source": [
    "# Set this to whatever directory GoodCopy is in\n",
    "\n",
    "home_dir = \"/home/l/lungboy/tadam/Project/\""
   ]
  },
  {
   "cell_type": "markdown",
   "metadata": {},
   "source": [
    "# Importing Packages and Data"
   ]
  },
  {
   "cell_type": "code",
   "execution_count": null,
   "metadata": {},
   "outputs": [],
   "source": [
    "# Importing packages and functions\n",
    "\n",
    "import numpy as np\n",
    "import pandas as pd\n",
    "import matplotlib.pyplot as plt\n",
    "import sys\n",
    "\n",
    "sys.path.append(home_dir + 'GoodCopy/Functions')\n",
    "\n",
    "import FunctionsOOPGood as func"
   ]
  },
  {
   "cell_type": "code",
   "execution_count": null,
   "metadata": {},
   "outputs": [],
   "source": [
    "# Importing DataSet object\n",
    "\n",
    "data = func.DataSet(empty=True)\n",
    "data.open_DataSet(home_dir + \"GoodCopy/Objects/data_object\")"
   ]
  },
  {
   "cell_type": "code",
   "execution_count": null,
   "metadata": {},
   "outputs": [],
   "source": [
    "# Importing MatchedDataSet object\n",
    "\n",
    "data_matched = func.MatchedDataSet(empty=True)\n",
    "data_matched.open_MatchedDataSet(home_dir + \"GoodCopy/Objects/matched_data_saved\")"
   ]
  },
  {
   "cell_type": "code",
   "execution_count": null,
   "metadata": {},
   "outputs": [],
   "source": [
    "# Importing Visualizations\n",
    "\n",
    "vis = np.load(home_dir + \"GoodCopy/Objects/UMAP_projections.npz\")\n",
    "\n",
    "UMAP_gower = vis[\"UMAP_gower\"]\n",
    "UMAP_biodata = vis[\"UMAP_biodata\"]\n",
    "UMAP_snf = vis[\"UMAP_snf\"]\n",
    "UMAP_onehot = vis[\"UMAP_onehot\"]"
   ]
  },
  {
   "cell_type": "code",
   "execution_count": null,
   "metadata": {},
   "outputs": [],
   "source": [
    "# Importing labels\n",
    "\n",
    "loaded_labels = np.load(home_dir + \"GoodCopy/Objects/labels_matched.npz\")\n",
    "\n",
    "kmedoids_labels = loaded_labels[\"kmedoids_labels\"]\n",
    "hdb_labels = loaded_labels[\"hdb_labels\"]\n",
    "agglo_labels = loaded_labels[\"agglo_labels\"]\n",
    "snf_hdb_labels = loaded_labels[\"snf_hdb_labels\"]\n",
    "spec_labels = loaded_labels[\"spec_labels\"]"
   ]
  },
  {
   "cell_type": "markdown",
   "metadata": {},
   "source": [
    "# Ensemble Clustering Workflow\n",
    "\n",
    "This is the workflow I used to combine matched labels using ensemble Clustering"
   ]
  },
  {
   "cell_type": "code",
   "execution_count": null,
   "metadata": {},
   "outputs": [],
   "source": [
    "# Importing packages\n",
    "\n",
    "import ensembleclustering as CE\n",
    "import itertools"
   ]
  },
  {
   "cell_type": "code",
   "execution_count": null,
   "metadata": {},
   "outputs": [],
   "source": [
    "# Kmedoids\n",
    "\n",
    "# Iterating through each max number of labels from 2 to 9\n",
    "for i in range(2, 10):\n",
    "    # Generating ensemble labels for kmedoids\n",
    "    kmedoids_clusters = CE.cluster_ensembles(np.asarray(kmedoids_labels), nclass=i)\n",
    "    print(\"done kmed\", i)\n",
    "    pd.DataFrame(np.asarray(kmedoids_clusters)).to_csv(home_dir + \"GoodCopy/EnsembleResults/{}_kmedoids_labels.csv\".format(i))"
   ]
  },
  {
   "cell_type": "code",
   "execution_count": null,
   "metadata": {},
   "outputs": [],
   "source": [
    "# HDBSCAN using gower distance matrix\n",
    "\n",
    "# Iterating through each max number of labels from 2 to 9\n",
    "for i in range(2, 10):\n",
    "    # Generating ensemble labels for HDBSCAN\n",
    "    hdb_clusters = CE.cluster_ensembles(np.asarray(hdb_labels), nclass=i)\n",
    "    print(\"done hdb\", i)\n",
    "    pd.DataFrame(np.asarray(hdb_clusters)).to_csv(home_dir + \"GoodCopy/EnsembleResults/{}_hdb_labels.csv\".format(i))"
   ]
  },
  {
   "cell_type": "code",
   "execution_count": null,
   "metadata": {},
   "outputs": [],
   "source": [
    "# Agglomerative Clustering\n",
    "\n",
    "# Iterating through each max number of labels from 2 to 9\n",
    "for i in range(2, 10):\n",
    "    # Generating ensemble labels for agglomerative clustering\n",
    "    agglo_clusters = CE.cluster_ensembles(np.asarray(agglo_labels), nclass=i)\n",
    "    print(\"done agglo\", i)\n",
    "    pd.DataFrame(np.asarray(agglo_clusters)).to_csv(home_dir + \"GoodCopy/EnsembleResults/{}_agglo_labels.csv\".format(i))"
   ]
  },
  {
   "cell_type": "code",
   "execution_count": null,
   "metadata": {},
   "outputs": [],
   "source": [
    "# Kmedoids + HDBSCAN (gower) + Agglomerative Clustering\n",
    "\n",
    "# Iterating through each max number of labels from 2 to 9\n",
    "for i in range(2, 10):\n",
    "    # Combining all non-snf labels\n",
    "    all_labels = list(itertools.chain(kmedoids_labels, agglo_labels, hdb_labels))\n",
    "\n",
    "    # Generating ensemble labels from all non-snf clusters\n",
    "    all_clusters = CE.cluster_ensembles(np.asarray(all_labels), nclass=i)\n",
    "    print(\"done all\", i)\n",
    "    pd.DataFrame(np.asarray(all_clusters)).to_csv(home_dir + \"GoodCopy/EnsembleResults/{}_all_labels.csv\".format(i))"
   ]
  },
  {
   "cell_type": "code",
   "execution_count": null,
   "metadata": {},
   "outputs": [],
   "source": [
    "# HDBSCAN using SNF distance matrix\n",
    "\n",
    "# Iterating through each max number of labels from 2 to 9\n",
    "for i in range(2, 10):\n",
    "    # Generating ensemble labels for HDBSCAN snf clusters\n",
    "    snf_hdb_clusters = CE.cluster_ensembles(np.asarray(snf_hdb_labels), nclass=i)\n",
    "    print(\"done SNF HDBSCAN\", i)\n",
    "    pd.DataFrame(np.asarray(snf_hdb_clusters)).to_csv(home_dir + \"GoodCopy/EnsembleResults/{}_snf_hdb_labels.csv\".format(i))"
   ]
  },
  {
   "cell_type": "code",
   "execution_count": null,
   "metadata": {},
   "outputs": [],
   "source": [
    "# Spectral Clustering with SNF\n",
    "\n",
    "# Iterating through each max number of labels from 2 to 9\n",
    "for i in range(2,10):  \n",
    "    # Generating ensemble labels for Spectral snf clusters\n",
    "    snf_spectral_clusters = CE.cluster_ensembles(np.asarray(spec_labels), nclass=i)\n",
    "    print(\"done Spectral\", i)\n",
    "    pd.DataFrame(np.asarray(snf_spectral_clusters)).to_csv(home_dir + \"GoodCopy/EnsembleResults/{}_snf_spectral_labels.csv\".format(i))"
   ]
  },
  {
   "cell_type": "code",
   "execution_count": null,
   "metadata": {},
   "outputs": [],
   "source": [
    "# Kmedoids + HDBSCAN (gower) + Agglomerative Clustering + HDBSCAN (SNF) + Spectral Clustering\n",
    "\n",
    "# Iterating through each max number of labels from 2 to 9\n",
    "for i in range(2,10):\n",
    "    # Combining all labels, including snf\n",
    "    all_plus_snf_labels = list(itertools.chain(kmedoids_labels, agglo_labels, hdb_labels, snf_hdb_labels, spec_labels))\n",
    "\n",
    "    # Generating ensemble labels for all clusters\n",
    "    all_plus_snf_clusters = CE.cluster_ensembles(np.asarray(all_plus_snf_labels), nclass=i)\n",
    "    print(\"done all plus\", i)\n",
    "    pd.DataFrame(np.asarray(all_plus_snf_clusters)).to_csv(home_dir + \"GoodCopy/EnsembleResults/{}_all_plus_snf_labels.csv\".format(i))"
   ]
  }
 ],
 "metadata": {
  "kernelspec": {
   "display_name": "pappas_tadam",
   "language": "python",
   "name": "pappas_tadam"
  },
  "language_info": {
   "codemirror_mode": {
    "name": "ipython",
    "version": 3
   },
   "file_extension": ".py",
   "mimetype": "text/x-python",
   "name": "python",
   "nbconvert_exporter": "python",
   "pygments_lexer": "ipython3",
   "version": "3.9.8"
  }
 },
 "nbformat": 4,
 "nbformat_minor": 4
}
