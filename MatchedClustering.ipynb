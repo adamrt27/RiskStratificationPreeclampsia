{
 "cells": [
  {
   "attachments": {},
   "cell_type": "markdown",
   "metadata": {},
   "source": [
    "This is the **4th** Notebook in the clustering pipeline. It allows you to take the MatchedDataSet object and cluster on all the matched datasets with KMedoids, HDBSCAN using gower-daisy distance matrix, Agglomerative Clustering, HDBSCAN using SNF (of risk_factor and biomarker data) distance matrix, and Spectral clustering using SNF (of risk_factor and biomarker data) affinity matrix.\n",
    "\n",
    "Note that to combat the stochastic effect of some clustering algorithms, I have implemented a seeding into all functions. The base seed is 42.\n",
    "\n",
    "Use <u>***pappas_tadam***</u> virtual environment."
   ]
  },
  {
   "cell_type": "code",
   "execution_count": null,
   "metadata": {},
   "outputs": [],
   "source": [
    "# Set this to whatever directory GoodCopy is in\n",
    "\n",
    "home_dir = \"/home/l/lungboy/tadam/Project/\""
   ]
  },
  {
   "attachments": {},
   "cell_type": "markdown",
   "metadata": {},
   "source": [
    "# Importing Packages and Data"
   ]
  },
  {
   "cell_type": "code",
   "execution_count": null,
   "metadata": {},
   "outputs": [],
   "source": [
    "# Importing packages and functions\n",
    "\n",
    "import numpy as np\n",
    "import pandas as pd\n",
    "import matplotlib.pyplot as plt\n",
    "import sys\n",
    "\n",
    "sys.path.append(home_dir + 'GoodCopy/Functions')\n",
    "\n",
    "import FunctionsOOPGood as func"
   ]
  },
  {
   "cell_type": "code",
   "execution_count": null,
   "metadata": {},
   "outputs": [],
   "source": [
    "# Importing DataSet object\n",
    "\n",
    "data = func.DataSet(empty=True)\n",
    "data.open_DataSet(home_dir + \"GoodCopy/Objects/data_object\")"
   ]
  },
  {
   "cell_type": "code",
   "execution_count": null,
   "metadata": {},
   "outputs": [],
   "source": [
    "# Importing MatchedDataSet object\n",
    "\n",
    "data_matched = func.MatchedDataSet(empty=True)\n",
    "data_matched.open_MatchedDataSet(home_dir + \"GoodCopy/Objects/matched_data_saved\")"
   ]
  },
  {
   "cell_type": "code",
   "execution_count": null,
   "metadata": {},
   "outputs": [],
   "source": [
    "# Importing Visualizations\n",
    "\n",
    "vis = np.load(home_dir + \"GoodCopy/Objects/UMAP_projections.npz\")\n",
    "\n",
    "UMAP_gower = vis[\"UMAP_gower\"]\n",
    "UMAP_biodata = vis[\"UMAP_biodata\"]\n",
    "UMAP_snf = vis[\"UMAP_snf\"]\n",
    "UMAP_onehot = vis[\"UMAP_onehot\"]"
   ]
  },
  {
   "attachments": {},
   "cell_type": "markdown",
   "metadata": {},
   "source": [
    "# Matched Clustering Workflow\n",
    "\n",
    "This is the workflow I used to develop matched clustering labels to be used for ensemble clustering"
   ]
  },
  {
   "attachments": {},
   "cell_type": "markdown",
   "metadata": {},
   "source": [
    "#### Generating Labels"
   ]
  },
  {
   "cell_type": "code",
   "execution_count": null,
   "metadata": {},
   "outputs": [],
   "source": [
    "# Generating Kmedoids Clusters\n",
    "\n",
    "kmedoids_labels = []\n",
    "\n",
    "# Iterating through each number of clusters\n",
    "for i in range(2,10):\n",
    "    \n",
    "    labels = []\n",
    "    \n",
    "    # Iterating through each matched dataset\n",
    "    for ds in data_matched.matched_data:\n",
    "        \n",
    "        # Generating cluster labels\n",
    "        labels.append(ds.kMedoids_func(n_clusters= i).labels_)\n",
    "\n",
    "    # Extending to the rest of the dataset, filling in all patients not part of MatchedDataSet with NA values\n",
    "    kmedoids_labels.extend(func.MatchedDataSet.PrepForSemiSupervised_matched(ds = data_matched, labels = labels))\n",
    "\n",
    "print(\"Done Kmedoids\")"
   ]
  },
  {
   "cell_type": "code",
   "execution_count": null,
   "metadata": {},
   "outputs": [],
   "source": [
    "# Generating HDBSCAN Labels\n",
    "\n",
    "labels = []\n",
    "\n",
    "for ds in data_matched.matched_data:\n",
    "\n",
    "    labels.append(ds.HDBSCAN_func(precomputed=True).labels_)\n",
    "    \n",
    "hdb_labels = func.MatchedDataSet.PrepForSemiSupervised_matched(data_matched, labels)\n",
    "\n",
    "print(\"Done HDBSCAN\")"
   ]
  },
  {
   "cell_type": "code",
   "execution_count": null,
   "metadata": {},
   "outputs": [],
   "source": [
    "# Generating Agglomerative Clustering Labels\n",
    "\n",
    "agglo_labels = []\n",
    "\n",
    "for i in range(2,10):\n",
    "    \n",
    "    labels = []\n",
    "    for ds in data_matched.matched_data:\n",
    "\n",
    "        labels.append(ds.AgglomerativeClustering_func(n_clusters= i, precomputed=True, linkage = \"average\").labels_)\n",
    "\n",
    "    agglo_labels.extend(func.MatchedDataSet.PrepForSemiSupervised_matched(data_matched, labels))\n",
    "\n",
    "print(\"Done Agglo\")"
   ]
  },
  {
   "cell_type": "code",
   "execution_count": null,
   "metadata": {},
   "outputs": [],
   "source": [
    "# Generating HDB SNF Labels\n",
    "\n",
    "labels_HDB = []\n",
    "\n",
    "for ds in data_matched.matched_data:\n",
    "\n",
    "    labels_HDB.append(ds.HDBSCAN_func(data = ds.snf_dist, precomputed=True).labels_)\n",
    "    \n",
    "    \n",
    "snf_hdb_labels = func.MatchedDataSet.PrepForSemiSupervised_matched(data_matched, labels_HDB)"
   ]
  },
  {
   "cell_type": "code",
   "execution_count": null,
   "metadata": {},
   "outputs": [],
   "source": [
    "# Generating Spectral SNF labels\n",
    "\n",
    "spec_labels = []\n",
    "\n",
    "for i in range(2,10):\n",
    "    \n",
    "    labels = []\n",
    "    for ds in data_matched.matched_data:\n",
    "\n",
    "        labels.append(ds.SpectralClustering_func(n_clusters= i, precomputed=True).labels_)\n",
    "\n",
    "    spec_labels.extend(func.MatchedDataSet.PrepForSemiSupervised_matched(data_matched, labels))"
   ]
  },
  {
   "attachments": {},
   "cell_type": "markdown",
   "metadata": {},
   "source": [
    "#### Saving Labels"
   ]
  },
  {
   "cell_type": "code",
   "execution_count": null,
   "metadata": {},
   "outputs": [],
   "source": [
    "np.savez(home_dir + \"GoodCopy/Objects/labels_matched\",kmedoids_labels = kmedoids_labels, \n",
    "         hdb_labels = hdb_labels, agglo_labels = agglo_labels, snf_hdb_labels = snf_hdb_labels,\n",
    "         spec_labels = spec_labels)"
   ]
  }
 ],
 "metadata": {
  "kernelspec": {
   "display_name": "pappas_tadam",
   "language": "python",
   "name": "pappas_tadam"
  },
  "language_info": {
   "codemirror_mode": {
    "name": "ipython",
    "version": 3
   },
   "file_extension": ".py",
   "mimetype": "text/x-python",
   "name": "python",
   "nbconvert_exporter": "python",
   "pygments_lexer": "ipython3",
   "version": "3.9.8"
  }
 },
 "nbformat": 4,
 "nbformat_minor": 4
}
